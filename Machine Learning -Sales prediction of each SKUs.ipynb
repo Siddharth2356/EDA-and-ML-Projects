{
 "cells": [
  {
   "cell_type": "code",
   "execution_count": 1,
   "id": "cba75d11",
   "metadata": {},
   "outputs": [],
   "source": [
    "import pandas as pd\n",
    "import numpy as np\n",
    "import seaborn as sns\n",
    "import matplotlib.pyplot as plt\n",
    "%matplotlib inline\n",
    "\n",
    "import warnings \n",
    "warnings.filterwarnings('ignore')\n"
   ]
  },
  {
   "cell_type": "code",
   "execution_count": 2,
   "id": "94eaed50",
   "metadata": {},
   "outputs": [
    {
     "data": {
      "text/html": [
       "<div>\n",
       "<style scoped>\n",
       "    .dataframe tbody tr th:only-of-type {\n",
       "        vertical-align: middle;\n",
       "    }\n",
       "\n",
       "    .dataframe tbody tr th {\n",
       "        vertical-align: top;\n",
       "    }\n",
       "\n",
       "    .dataframe thead th {\n",
       "        text-align: right;\n",
       "    }\n",
       "</style>\n",
       "<table border=\"1\" class=\"dataframe\">\n",
       "  <thead>\n",
       "    <tr style=\"text-align: right;\">\n",
       "      <th></th>\n",
       "      <th>record_ID</th>\n",
       "      <th>week</th>\n",
       "      <th>store_id</th>\n",
       "      <th>sku_id</th>\n",
       "      <th>total_price</th>\n",
       "      <th>base_price</th>\n",
       "      <th>is_featured_sku</th>\n",
       "      <th>is_display_sku</th>\n",
       "      <th>units_sold</th>\n",
       "    </tr>\n",
       "  </thead>\n",
       "  <tbody>\n",
       "    <tr>\n",
       "      <th>0</th>\n",
       "      <td>1</td>\n",
       "      <td>17/01/11</td>\n",
       "      <td>8091</td>\n",
       "      <td>216418</td>\n",
       "      <td>99.0375</td>\n",
       "      <td>111.8625</td>\n",
       "      <td>0</td>\n",
       "      <td>0</td>\n",
       "      <td>20</td>\n",
       "    </tr>\n",
       "    <tr>\n",
       "      <th>1</th>\n",
       "      <td>2</td>\n",
       "      <td>17/01/11</td>\n",
       "      <td>8091</td>\n",
       "      <td>216419</td>\n",
       "      <td>99.0375</td>\n",
       "      <td>99.0375</td>\n",
       "      <td>0</td>\n",
       "      <td>0</td>\n",
       "      <td>28</td>\n",
       "    </tr>\n",
       "    <tr>\n",
       "      <th>2</th>\n",
       "      <td>3</td>\n",
       "      <td>17/01/11</td>\n",
       "      <td>8091</td>\n",
       "      <td>216425</td>\n",
       "      <td>133.9500</td>\n",
       "      <td>133.9500</td>\n",
       "      <td>0</td>\n",
       "      <td>0</td>\n",
       "      <td>19</td>\n",
       "    </tr>\n",
       "    <tr>\n",
       "      <th>3</th>\n",
       "      <td>4</td>\n",
       "      <td>17/01/11</td>\n",
       "      <td>8091</td>\n",
       "      <td>216233</td>\n",
       "      <td>133.9500</td>\n",
       "      <td>133.9500</td>\n",
       "      <td>0</td>\n",
       "      <td>0</td>\n",
       "      <td>44</td>\n",
       "    </tr>\n",
       "    <tr>\n",
       "      <th>4</th>\n",
       "      <td>5</td>\n",
       "      <td>17/01/11</td>\n",
       "      <td>8091</td>\n",
       "      <td>217390</td>\n",
       "      <td>141.0750</td>\n",
       "      <td>141.0750</td>\n",
       "      <td>0</td>\n",
       "      <td>0</td>\n",
       "      <td>52</td>\n",
       "    </tr>\n",
       "  </tbody>\n",
       "</table>\n",
       "</div>"
      ],
      "text/plain": [
       "   record_ID      week  store_id  sku_id  total_price  base_price  \\\n",
       "0          1  17/01/11      8091  216418      99.0375    111.8625   \n",
       "1          2  17/01/11      8091  216419      99.0375     99.0375   \n",
       "2          3  17/01/11      8091  216425     133.9500    133.9500   \n",
       "3          4  17/01/11      8091  216233     133.9500    133.9500   \n",
       "4          5  17/01/11      8091  217390     141.0750    141.0750   \n",
       "\n",
       "   is_featured_sku  is_display_sku  units_sold  \n",
       "0                0               0          20  \n",
       "1                0               0          28  \n",
       "2                0               0          19  \n",
       "3                0               0          44  \n",
       "4                0               0          52  "
      ]
     },
     "execution_count": 2,
     "metadata": {},
     "output_type": "execute_result"
    }
   ],
   "source": [
    "train = pd.read_csv('train_0irEZ2H.csv')\n",
    "train.head()"
   ]
  },
  {
   "cell_type": "code",
   "execution_count": 3,
   "id": "31c74f49",
   "metadata": {},
   "outputs": [
    {
     "data": {
      "text/html": [
       "<div>\n",
       "<style scoped>\n",
       "    .dataframe tbody tr th:only-of-type {\n",
       "        vertical-align: middle;\n",
       "    }\n",
       "\n",
       "    .dataframe tbody tr th {\n",
       "        vertical-align: top;\n",
       "    }\n",
       "\n",
       "    .dataframe thead th {\n",
       "        text-align: right;\n",
       "    }\n",
       "</style>\n",
       "<table border=\"1\" class=\"dataframe\">\n",
       "  <thead>\n",
       "    <tr style=\"text-align: right;\">\n",
       "      <th></th>\n",
       "      <th>record_ID</th>\n",
       "      <th>week</th>\n",
       "      <th>store_id</th>\n",
       "      <th>sku_id</th>\n",
       "      <th>total_price</th>\n",
       "      <th>base_price</th>\n",
       "      <th>is_featured_sku</th>\n",
       "      <th>is_display_sku</th>\n",
       "    </tr>\n",
       "  </thead>\n",
       "  <tbody>\n",
       "    <tr>\n",
       "      <th>0</th>\n",
       "      <td>212645</td>\n",
       "      <td>16/07/13</td>\n",
       "      <td>8091</td>\n",
       "      <td>216418</td>\n",
       "      <td>108.3000</td>\n",
       "      <td>108.3000</td>\n",
       "      <td>0</td>\n",
       "      <td>0</td>\n",
       "    </tr>\n",
       "    <tr>\n",
       "      <th>1</th>\n",
       "      <td>212646</td>\n",
       "      <td>16/07/13</td>\n",
       "      <td>8091</td>\n",
       "      <td>216419</td>\n",
       "      <td>109.0125</td>\n",
       "      <td>109.0125</td>\n",
       "      <td>0</td>\n",
       "      <td>0</td>\n",
       "    </tr>\n",
       "    <tr>\n",
       "      <th>2</th>\n",
       "      <td>212647</td>\n",
       "      <td>16/07/13</td>\n",
       "      <td>8091</td>\n",
       "      <td>216425</td>\n",
       "      <td>133.9500</td>\n",
       "      <td>133.9500</td>\n",
       "      <td>0</td>\n",
       "      <td>0</td>\n",
       "    </tr>\n",
       "    <tr>\n",
       "      <th>3</th>\n",
       "      <td>212648</td>\n",
       "      <td>16/07/13</td>\n",
       "      <td>8091</td>\n",
       "      <td>216233</td>\n",
       "      <td>133.9500</td>\n",
       "      <td>133.9500</td>\n",
       "      <td>0</td>\n",
       "      <td>0</td>\n",
       "    </tr>\n",
       "    <tr>\n",
       "      <th>4</th>\n",
       "      <td>212649</td>\n",
       "      <td>16/07/13</td>\n",
       "      <td>8091</td>\n",
       "      <td>217390</td>\n",
       "      <td>176.7000</td>\n",
       "      <td>176.7000</td>\n",
       "      <td>0</td>\n",
       "      <td>0</td>\n",
       "    </tr>\n",
       "  </tbody>\n",
       "</table>\n",
       "</div>"
      ],
      "text/plain": [
       "   record_ID      week  store_id  sku_id  total_price  base_price  \\\n",
       "0     212645  16/07/13      8091  216418     108.3000    108.3000   \n",
       "1     212646  16/07/13      8091  216419     109.0125    109.0125   \n",
       "2     212647  16/07/13      8091  216425     133.9500    133.9500   \n",
       "3     212648  16/07/13      8091  216233     133.9500    133.9500   \n",
       "4     212649  16/07/13      8091  217390     176.7000    176.7000   \n",
       "\n",
       "   is_featured_sku  is_display_sku  \n",
       "0                0               0  \n",
       "1                0               0  \n",
       "2                0               0  \n",
       "3                0               0  \n",
       "4                0               0  "
      ]
     },
     "execution_count": 3,
     "metadata": {},
     "output_type": "execute_result"
    }
   ],
   "source": [
    "test = pd.read_csv('test_nfaJ3J5.csv')\n",
    "test.head()"
   ]
  },
  {
   "cell_type": "code",
   "execution_count": 4,
   "id": "64e1c0ad",
   "metadata": {},
   "outputs": [
    {
     "name": "stdout",
     "output_type": "stream",
     "text": [
      "<class 'pandas.core.frame.DataFrame'>\n",
      "RangeIndex: 150150 entries, 0 to 150149\n",
      "Data columns (total 9 columns):\n",
      " #   Column           Non-Null Count   Dtype  \n",
      "---  ------           --------------   -----  \n",
      " 0   record_ID        150150 non-null  int64  \n",
      " 1   week             150150 non-null  object \n",
      " 2   store_id         150150 non-null  int64  \n",
      " 3   sku_id           150150 non-null  int64  \n",
      " 4   total_price      150149 non-null  float64\n",
      " 5   base_price       150150 non-null  float64\n",
      " 6   is_featured_sku  150150 non-null  int64  \n",
      " 7   is_display_sku   150150 non-null  int64  \n",
      " 8   units_sold       150150 non-null  int64  \n",
      "dtypes: float64(2), int64(6), object(1)\n",
      "memory usage: 10.3+ MB\n"
     ]
    }
   ],
   "source": [
    "train.info()"
   ]
  },
  {
   "cell_type": "code",
   "execution_count": 5,
   "id": "7096b972",
   "metadata": {},
   "outputs": [
    {
     "data": {
      "text/plain": [
       "array(['17/01/11', '24/01/11', '31/01/11', '07/02/11', '14/02/11',\n",
       "       '21/02/11', '28/02/11', '07/03/11', '14/03/11', '21/03/11',\n",
       "       '28/03/11', '04/04/11', '11/04/11', '18/04/11', '25/04/11',\n",
       "       '02/05/11', '09/05/11', '16/05/11', '23/05/11', '30/05/11',\n",
       "       '06/06/11', '13/06/11', '20/06/11', '27/06/11', '04/07/11',\n",
       "       '11/07/11', '18/07/11', '25/07/11', '01/08/11', '08/08/11',\n",
       "       '15/08/11', '22/08/11', '29/08/11', '05/09/11', '12/09/11',\n",
       "       '19/09/11', '26/09/11', '03/10/11', '10/10/11', '17/10/11',\n",
       "       '24/10/11', '31/10/11', '07/11/11', '14/11/11', '21/11/11',\n",
       "       '28/11/11', '05/12/11', '12/12/11', '19/12/11', '26/12/11',\n",
       "       '02/01/12', '09/01/12', '16/01/12', '23/01/12', '30/01/12',\n",
       "       '06/02/12', '13/02/12', '20/02/12', '27/02/12', '06/03/12',\n",
       "       '13/03/12', '20/03/12', '27/03/12', '03/04/12', '10/04/12',\n",
       "       '17/04/12', '24/04/12', '01/05/12', '08/05/12', '15/05/12',\n",
       "       '22/05/12', '29/05/12', '05/06/12', '12/06/12', '19/06/12',\n",
       "       '26/06/12', '03/07/12', '10/07/12', '17/07/12', '24/07/12',\n",
       "       '31/07/12', '07/08/12', '14/08/12', '21/08/12', '28/08/12',\n",
       "       '04/09/12', '11/09/12', '18/09/12', '25/09/12', '02/10/12',\n",
       "       '09/10/12', '16/10/12', '23/10/12', '30/10/12', '06/11/12',\n",
       "       '13/11/12', '20/11/12', '27/11/12', '04/12/12', '11/12/12',\n",
       "       '18/12/12', '25/12/12', '01/01/13', '08/01/13', '15/01/13',\n",
       "       '22/01/13', '29/01/13', '05/02/13', '12/02/13', '19/02/13',\n",
       "       '26/02/13', '05/03/13', '12/03/13', '19/03/13', '26/03/13',\n",
       "       '02/04/13', '09/04/13', '16/04/13', '23/04/13', '30/04/13',\n",
       "       '07/05/13', '14/05/13', '21/05/13', '28/05/13', '04/06/13',\n",
       "       '11/06/13', '18/06/13', '25/06/13', '02/07/13', '09/07/13'],\n",
       "      dtype=object)"
      ]
     },
     "execution_count": 5,
     "metadata": {},
     "output_type": "execute_result"
    }
   ],
   "source": [
    "train['week'].unique()"
   ]
  },
  {
   "cell_type": "code",
   "execution_count": 18,
   "id": "21520d8d",
   "metadata": {},
   "outputs": [],
   "source": [
    "train['week'] = train['week'].astype('datetime64')  # chaging the data type from int64 to datetime64"
   ]
  },
  {
   "cell_type": "code",
   "execution_count": null,
   "id": "902fd949",
   "metadata": {},
   "outputs": [],
   "source": [
    "train['week'].min(),train['week'].max()   # getting min and max date of the dataset"
   ]
  },
  {
   "cell_type": "code",
   "execution_count": 7,
   "id": "0f6f8fd1",
   "metadata": {},
   "outputs": [],
   "source": [
    "# extracting separate week,day,year,week of year, day of week\n",
    "train['year']=pd.DatetimeIndex(train['week']).year\n",
    "train['month']=pd.DatetimeIndex(train['week']).month\n",
    "train['day']=pd.DatetimeIndex(train['week']).day\n",
    "train['week_of_year'] = [date.weekofyear for date in train.week] \n",
    "train['day_of_week'] = [date.dayofweek for date in train.week]"
   ]
  },
  {
   "cell_type": "code",
   "execution_count": 8,
   "id": "776f9df0",
   "metadata": {},
   "outputs": [
    {
     "data": {
      "text/plain": [
       "array([ 1,  7,  2,  3,  4, 11,  9,  5,  6,  8, 12, 10], dtype=int64)"
      ]
     },
     "execution_count": 8,
     "metadata": {},
     "output_type": "execute_result"
    }
   ],
   "source": [
    "train['month'].unique()"
   ]
  },
  {
   "cell_type": "code",
   "execution_count": 19,
   "id": "d27da007",
   "metadata": {},
   "outputs": [
    {
     "data": {
      "text/html": [
       "<div>\n",
       "<style scoped>\n",
       "    .dataframe tbody tr th:only-of-type {\n",
       "        vertical-align: middle;\n",
       "    }\n",
       "\n",
       "    .dataframe tbody tr th {\n",
       "        vertical-align: top;\n",
       "    }\n",
       "\n",
       "    .dataframe thead th {\n",
       "        text-align: right;\n",
       "    }\n",
       "</style>\n",
       "<table border=\"1\" class=\"dataframe\">\n",
       "  <thead>\n",
       "    <tr style=\"text-align: right;\">\n",
       "      <th></th>\n",
       "      <th>week</th>\n",
       "      <th>store_id</th>\n",
       "      <th>sku_id</th>\n",
       "      <th>total_price</th>\n",
       "      <th>base_price</th>\n",
       "      <th>is_featured_sku</th>\n",
       "      <th>is_display_sku</th>\n",
       "      <th>units_sold</th>\n",
       "      <th>year</th>\n",
       "      <th>month</th>\n",
       "      <th>day</th>\n",
       "    </tr>\n",
       "  </thead>\n",
       "  <tbody>\n",
       "    <tr>\n",
       "      <th>0</th>\n",
       "      <td>2011-01-17</td>\n",
       "      <td>8091</td>\n",
       "      <td>216418</td>\n",
       "      <td>99.0375</td>\n",
       "      <td>111.8625</td>\n",
       "      <td>0</td>\n",
       "      <td>0</td>\n",
       "      <td>20</td>\n",
       "      <td>2011</td>\n",
       "      <td>1</td>\n",
       "      <td>17</td>\n",
       "    </tr>\n",
       "    <tr>\n",
       "      <th>1</th>\n",
       "      <td>2011-01-17</td>\n",
       "      <td>8091</td>\n",
       "      <td>216419</td>\n",
       "      <td>99.0375</td>\n",
       "      <td>99.0375</td>\n",
       "      <td>0</td>\n",
       "      <td>0</td>\n",
       "      <td>28</td>\n",
       "      <td>2011</td>\n",
       "      <td>1</td>\n",
       "      <td>17</td>\n",
       "    </tr>\n",
       "    <tr>\n",
       "      <th>2</th>\n",
       "      <td>2011-01-17</td>\n",
       "      <td>8091</td>\n",
       "      <td>216425</td>\n",
       "      <td>133.9500</td>\n",
       "      <td>133.9500</td>\n",
       "      <td>0</td>\n",
       "      <td>0</td>\n",
       "      <td>19</td>\n",
       "      <td>2011</td>\n",
       "      <td>1</td>\n",
       "      <td>17</td>\n",
       "    </tr>\n",
       "    <tr>\n",
       "      <th>3</th>\n",
       "      <td>2011-01-17</td>\n",
       "      <td>8091</td>\n",
       "      <td>216233</td>\n",
       "      <td>133.9500</td>\n",
       "      <td>133.9500</td>\n",
       "      <td>0</td>\n",
       "      <td>0</td>\n",
       "      <td>44</td>\n",
       "      <td>2011</td>\n",
       "      <td>1</td>\n",
       "      <td>17</td>\n",
       "    </tr>\n",
       "    <tr>\n",
       "      <th>4</th>\n",
       "      <td>2011-01-17</td>\n",
       "      <td>8091</td>\n",
       "      <td>217390</td>\n",
       "      <td>141.0750</td>\n",
       "      <td>141.0750</td>\n",
       "      <td>0</td>\n",
       "      <td>0</td>\n",
       "      <td>52</td>\n",
       "      <td>2011</td>\n",
       "      <td>1</td>\n",
       "      <td>17</td>\n",
       "    </tr>\n",
       "  </tbody>\n",
       "</table>\n",
       "</div>"
      ],
      "text/plain": [
       "        week  store_id  sku_id  total_price  base_price  is_featured_sku  \\\n",
       "0 2011-01-17      8091  216418      99.0375    111.8625                0   \n",
       "1 2011-01-17      8091  216419      99.0375     99.0375                0   \n",
       "2 2011-01-17      8091  216425     133.9500    133.9500                0   \n",
       "3 2011-01-17      8091  216233     133.9500    133.9500                0   \n",
       "4 2011-01-17      8091  217390     141.0750    141.0750                0   \n",
       "\n",
       "   is_display_sku  units_sold  year  month  day  \n",
       "0               0          20  2011      1   17  \n",
       "1               0          28  2011      1   17  \n",
       "2               0          19  2011      1   17  \n",
       "3               0          44  2011      1   17  \n",
       "4               0          52  2011      1   17  "
      ]
     },
     "execution_count": 19,
     "metadata": {},
     "output_type": "execute_result"
    }
   ],
   "source": [
    "train.head()"
   ]
  },
  {
   "cell_type": "code",
   "execution_count": 23,
   "id": "baf4e14a",
   "metadata": {},
   "outputs": [
    {
     "name": "stdout",
     "output_type": "stream",
     "text": [
      "<class 'pandas.core.frame.DataFrame'>\n",
      "RangeIndex: 150150 entries, 0 to 150149\n",
      "Data columns (total 13 columns):\n",
      " #   Column           Non-Null Count   Dtype         \n",
      "---  ------           --------------   -----         \n",
      " 0   week             150150 non-null  datetime64[ns]\n",
      " 1   store_id         150150 non-null  int64         \n",
      " 2   sku_id           150150 non-null  int64         \n",
      " 3   total_price      150149 non-null  float64       \n",
      " 4   base_price       150150 non-null  float64       \n",
      " 5   is_featured_sku  150150 non-null  int64         \n",
      " 6   is_display_sku   150150 non-null  int64         \n",
      " 7   units_sold       150150 non-null  int64         \n",
      " 8   year             150150 non-null  int64         \n",
      " 9   month            150150 non-null  int64         \n",
      " 10  day              150150 non-null  int64         \n",
      " 11  week_of_year     150150 non-null  int64         \n",
      " 12  day_of_week      150150 non-null  int64         \n",
      "dtypes: datetime64[ns](1), float64(2), int64(10)\n",
      "memory usage: 14.9 MB\n"
     ]
    }
   ],
   "source": [
    "train.info()"
   ]
  },
  {
   "cell_type": "code",
   "execution_count": 24,
   "id": "ddef9357",
   "metadata": {},
   "outputs": [],
   "source": [
    "train.drop('week',axis=1,inplace=True)"
   ]
  },
  {
   "cell_type": "code",
   "execution_count": 25,
   "id": "6e9eada4",
   "metadata": {},
   "outputs": [
    {
     "data": {
      "text/plain": [
       "store_id           0\n",
       "sku_id             0\n",
       "total_price        1\n",
       "base_price         0\n",
       "is_featured_sku    0\n",
       "is_display_sku     0\n",
       "units_sold         0\n",
       "year               0\n",
       "month              0\n",
       "day                0\n",
       "week_of_year       0\n",
       "day_of_week        0\n",
       "dtype: int64"
      ]
     },
     "execution_count": 25,
     "metadata": {},
     "output_type": "execute_result"
    }
   ],
   "source": [
    "train.isnull().sum()"
   ]
  },
  {
   "cell_type": "code",
   "execution_count": null,
   "id": "3e3a5cf4",
   "metadata": {},
   "outputs": [],
   "source": [
    "train['total_price']=train['total_price'].fillna(train['total_price'].median())   #filling the missing value by median"
   ]
  },
  {
   "cell_type": "code",
   "execution_count": 13,
   "id": "532d9997",
   "metadata": {},
   "outputs": [
    {
     "name": "stdout",
     "output_type": "stream",
     "text": [
      "<class 'pandas.core.frame.DataFrame'>\n",
      "RangeIndex: 13860 entries, 0 to 13859\n",
      "Data columns (total 8 columns):\n",
      " #   Column           Non-Null Count  Dtype  \n",
      "---  ------           --------------  -----  \n",
      " 0   record_ID        13860 non-null  int64  \n",
      " 1   week             13860 non-null  object \n",
      " 2   store_id         13860 non-null  int64  \n",
      " 3   sku_id           13860 non-null  int64  \n",
      " 4   total_price      13860 non-null  float64\n",
      " 5   base_price       13860 non-null  float64\n",
      " 6   is_featured_sku  13860 non-null  int64  \n",
      " 7   is_display_sku   13860 non-null  int64  \n",
      "dtypes: float64(2), int64(5), object(1)\n",
      "memory usage: 866.4+ KB\n"
     ]
    }
   ],
   "source": [
    "test.info()"
   ]
  },
  {
   "cell_type": "code",
   "execution_count": 14,
   "id": "e8e9d90f",
   "metadata": {},
   "outputs": [],
   "source": [
    "test.drop('record_ID',axis=1,inplace=True)"
   ]
  },
  {
   "cell_type": "code",
   "execution_count": 15,
   "id": "5ac06e96",
   "metadata": {},
   "outputs": [
    {
     "data": {
      "text/plain": [
       "week               0\n",
       "store_id           0\n",
       "sku_id             0\n",
       "total_price        0\n",
       "base_price         0\n",
       "is_featured_sku    0\n",
       "is_display_sku     0\n",
       "dtype: int64"
      ]
     },
     "execution_count": 15,
     "metadata": {},
     "output_type": "execute_result"
    }
   ],
   "source": [
    "test.isnull().sum()"
   ]
  },
  {
   "cell_type": "code",
   "execution_count": 26,
   "id": "49a6d8c9",
   "metadata": {},
   "outputs": [],
   "source": [
    "test['week'] = test['week'].astype('datetime64')"
   ]
  },
  {
   "cell_type": "code",
   "execution_count": 94,
   "id": "19ab6011",
   "metadata": {},
   "outputs": [],
   "source": [
    "test.drop('week',axis=1,inplace=True)"
   ]
  },
  {
   "cell_type": "code",
   "execution_count": 29,
   "id": "a88d6453",
   "metadata": {},
   "outputs": [],
   "source": [
    "test['year']=pd.DatetimeIndex(test['week']).year\n",
    "test['month']=pd.DatetimeIndex(test['week']).month\n",
    "test['day']=pd.DatetimeIndex(test['week']).day\n",
    "test['week_of_year'] = [date.weekofyear for date in test.week] \n",
    "test['day_of_week'] = [date.dayofweek for date in test.week]"
   ]
  },
  {
   "cell_type": "code",
   "execution_count": 31,
   "id": "cda50eca",
   "metadata": {},
   "outputs": [
    {
     "data": {
      "text/plain": [
       "array([29, 30, 31, 23, 33, 34, 35, 10, 41, 38, 39,  2], dtype=int64)"
      ]
     },
     "execution_count": 31,
     "metadata": {},
     "output_type": "execute_result"
    }
   ],
   "source": [
    "test['week_of_year'].unique()"
   ]
  },
  {
   "cell_type": "code",
   "execution_count": 43,
   "id": "cd5a2de4",
   "metadata": {},
   "outputs": [
    {
     "data": {
      "text/html": [
       "<div>\n",
       "<style scoped>\n",
       "    .dataframe tbody tr th:only-of-type {\n",
       "        vertical-align: middle;\n",
       "    }\n",
       "\n",
       "    .dataframe tbody tr th {\n",
       "        vertical-align: top;\n",
       "    }\n",
       "\n",
       "    .dataframe thead th {\n",
       "        text-align: right;\n",
       "    }\n",
       "</style>\n",
       "<table border=\"1\" class=\"dataframe\">\n",
       "  <thead>\n",
       "    <tr style=\"text-align: right;\">\n",
       "      <th></th>\n",
       "      <th>store_id</th>\n",
       "      <th>sku_id</th>\n",
       "      <th>total_price</th>\n",
       "      <th>base_price</th>\n",
       "      <th>is_featured_sku</th>\n",
       "      <th>is_display_sku</th>\n",
       "      <th>units_sold</th>\n",
       "      <th>year</th>\n",
       "      <th>month</th>\n",
       "      <th>day</th>\n",
       "      <th>week_of_year</th>\n",
       "      <th>day_of_week</th>\n",
       "    </tr>\n",
       "  </thead>\n",
       "  <tbody>\n",
       "    <tr>\n",
       "      <th>count</th>\n",
       "      <td>150150.000000</td>\n",
       "      <td>150150.000000</td>\n",
       "      <td>150149.000000</td>\n",
       "      <td>150150.000000</td>\n",
       "      <td>150150.000000</td>\n",
       "      <td>150150.000000</td>\n",
       "      <td>150150.000000</td>\n",
       "      <td>150150.000000</td>\n",
       "      <td>150150.000000</td>\n",
       "      <td>150150.000000</td>\n",
       "      <td>150150.000000</td>\n",
       "      <td>150150.000000</td>\n",
       "    </tr>\n",
       "    <tr>\n",
       "      <th>mean</th>\n",
       "      <td>9199.422511</td>\n",
       "      <td>254761.132468</td>\n",
       "      <td>206.626751</td>\n",
       "      <td>219.425927</td>\n",
       "      <td>0.095611</td>\n",
       "      <td>0.133200</td>\n",
       "      <td>51.674206</td>\n",
       "      <td>2011.830769</td>\n",
       "      <td>6.130769</td>\n",
       "      <td>15.700000</td>\n",
       "      <td>24.992308</td>\n",
       "      <td>1.400000</td>\n",
       "    </tr>\n",
       "    <tr>\n",
       "      <th>std</th>\n",
       "      <td>615.591445</td>\n",
       "      <td>85547.306447</td>\n",
       "      <td>103.308516</td>\n",
       "      <td>110.961712</td>\n",
       "      <td>0.294058</td>\n",
       "      <td>0.339792</td>\n",
       "      <td>60.207904</td>\n",
       "      <td>0.755887</td>\n",
       "      <td>3.438232</td>\n",
       "      <td>8.944861</td>\n",
       "      <td>14.867927</td>\n",
       "      <td>1.791439</td>\n",
       "    </tr>\n",
       "    <tr>\n",
       "      <th>min</th>\n",
       "      <td>8023.000000</td>\n",
       "      <td>216233.000000</td>\n",
       "      <td>41.325000</td>\n",
       "      <td>61.275000</td>\n",
       "      <td>0.000000</td>\n",
       "      <td>0.000000</td>\n",
       "      <td>1.000000</td>\n",
       "      <td>2011.000000</td>\n",
       "      <td>1.000000</td>\n",
       "      <td>1.000000</td>\n",
       "      <td>1.000000</td>\n",
       "      <td>0.000000</td>\n",
       "    </tr>\n",
       "    <tr>\n",
       "      <th>25%</th>\n",
       "      <td>8562.000000</td>\n",
       "      <td>217217.000000</td>\n",
       "      <td>130.387500</td>\n",
       "      <td>133.237500</td>\n",
       "      <td>0.000000</td>\n",
       "      <td>0.000000</td>\n",
       "      <td>20.000000</td>\n",
       "      <td>2011.000000</td>\n",
       "      <td>3.000000</td>\n",
       "      <td>7.000000</td>\n",
       "      <td>12.000000</td>\n",
       "      <td>0.000000</td>\n",
       "    </tr>\n",
       "    <tr>\n",
       "      <th>50%</th>\n",
       "      <td>9371.000000</td>\n",
       "      <td>222087.000000</td>\n",
       "      <td>198.075000</td>\n",
       "      <td>205.912500</td>\n",
       "      <td>0.000000</td>\n",
       "      <td>0.000000</td>\n",
       "      <td>35.000000</td>\n",
       "      <td>2012.000000</td>\n",
       "      <td>6.000000</td>\n",
       "      <td>16.000000</td>\n",
       "      <td>23.500000</td>\n",
       "      <td>1.000000</td>\n",
       "    </tr>\n",
       "    <tr>\n",
       "      <th>75%</th>\n",
       "      <td>9731.000000</td>\n",
       "      <td>245338.000000</td>\n",
       "      <td>233.700000</td>\n",
       "      <td>234.412500</td>\n",
       "      <td>0.000000</td>\n",
       "      <td>0.000000</td>\n",
       "      <td>62.000000</td>\n",
       "      <td>2012.000000</td>\n",
       "      <td>9.000000</td>\n",
       "      <td>24.000000</td>\n",
       "      <td>38.000000</td>\n",
       "      <td>2.000000</td>\n",
       "    </tr>\n",
       "    <tr>\n",
       "      <th>max</th>\n",
       "      <td>9984.000000</td>\n",
       "      <td>679023.000000</td>\n",
       "      <td>562.162500</td>\n",
       "      <td>562.162500</td>\n",
       "      <td>1.000000</td>\n",
       "      <td>1.000000</td>\n",
       "      <td>2876.000000</td>\n",
       "      <td>2013.000000</td>\n",
       "      <td>12.000000</td>\n",
       "      <td>31.000000</td>\n",
       "      <td>52.000000</td>\n",
       "      <td>6.000000</td>\n",
       "    </tr>\n",
       "  </tbody>\n",
       "</table>\n",
       "</div>"
      ],
      "text/plain": [
       "            store_id         sku_id    total_price     base_price  \\\n",
       "count  150150.000000  150150.000000  150149.000000  150150.000000   \n",
       "mean     9199.422511  254761.132468     206.626751     219.425927   \n",
       "std       615.591445   85547.306447     103.308516     110.961712   \n",
       "min      8023.000000  216233.000000      41.325000      61.275000   \n",
       "25%      8562.000000  217217.000000     130.387500     133.237500   \n",
       "50%      9371.000000  222087.000000     198.075000     205.912500   \n",
       "75%      9731.000000  245338.000000     233.700000     234.412500   \n",
       "max      9984.000000  679023.000000     562.162500     562.162500   \n",
       "\n",
       "       is_featured_sku  is_display_sku     units_sold           year  \\\n",
       "count    150150.000000   150150.000000  150150.000000  150150.000000   \n",
       "mean          0.095611        0.133200      51.674206    2011.830769   \n",
       "std           0.294058        0.339792      60.207904       0.755887   \n",
       "min           0.000000        0.000000       1.000000    2011.000000   \n",
       "25%           0.000000        0.000000      20.000000    2011.000000   \n",
       "50%           0.000000        0.000000      35.000000    2012.000000   \n",
       "75%           0.000000        0.000000      62.000000    2012.000000   \n",
       "max           1.000000        1.000000    2876.000000    2013.000000   \n",
       "\n",
       "               month            day   week_of_year    day_of_week  \n",
       "count  150150.000000  150150.000000  150150.000000  150150.000000  \n",
       "mean        6.130769      15.700000      24.992308       1.400000  \n",
       "std         3.438232       8.944861      14.867927       1.791439  \n",
       "min         1.000000       1.000000       1.000000       0.000000  \n",
       "25%         3.000000       7.000000      12.000000       0.000000  \n",
       "50%         6.000000      16.000000      23.500000       1.000000  \n",
       "75%         9.000000      24.000000      38.000000       2.000000  \n",
       "max        12.000000      31.000000      52.000000       6.000000  "
      ]
     },
     "execution_count": 43,
     "metadata": {},
     "output_type": "execute_result"
    }
   ],
   "source": [
    "train.describe()"
   ]
  },
  {
   "cell_type": "markdown",
   "id": "d091d139",
   "metadata": {},
   "source": [
    "## Exploratory Data Analysis"
   ]
  },
  {
   "cell_type": "code",
   "execution_count": 48,
   "id": "8414d9b2",
   "metadata": {},
   "outputs": [],
   "source": [
    "# having separate table for numerical columns\n",
    "num_ft = train[['total_price','base_price','units_sold','year','month','day','week_of_year','day_of_week']]"
   ]
  },
  {
   "cell_type": "code",
   "execution_count": 49,
   "id": "45879c06",
   "metadata": {},
   "outputs": [
    {
     "data": {
      "text/html": [
       "<div>\n",
       "<style scoped>\n",
       "    .dataframe tbody tr th:only-of-type {\n",
       "        vertical-align: middle;\n",
       "    }\n",
       "\n",
       "    .dataframe tbody tr th {\n",
       "        vertical-align: top;\n",
       "    }\n",
       "\n",
       "    .dataframe thead th {\n",
       "        text-align: right;\n",
       "    }\n",
       "</style>\n",
       "<table border=\"1\" class=\"dataframe\">\n",
       "  <thead>\n",
       "    <tr style=\"text-align: right;\">\n",
       "      <th></th>\n",
       "      <th>total_price</th>\n",
       "      <th>base_price</th>\n",
       "      <th>units_sold</th>\n",
       "      <th>year</th>\n",
       "      <th>month</th>\n",
       "      <th>day</th>\n",
       "      <th>week_of_year</th>\n",
       "      <th>day_of_week</th>\n",
       "    </tr>\n",
       "  </thead>\n",
       "  <tbody>\n",
       "    <tr>\n",
       "      <th>0</th>\n",
       "      <td>99.0375</td>\n",
       "      <td>111.8625</td>\n",
       "      <td>20</td>\n",
       "      <td>2011</td>\n",
       "      <td>1</td>\n",
       "      <td>17</td>\n",
       "      <td>3</td>\n",
       "      <td>0</td>\n",
       "    </tr>\n",
       "    <tr>\n",
       "      <th>1</th>\n",
       "      <td>99.0375</td>\n",
       "      <td>99.0375</td>\n",
       "      <td>28</td>\n",
       "      <td>2011</td>\n",
       "      <td>1</td>\n",
       "      <td>17</td>\n",
       "      <td>3</td>\n",
       "      <td>0</td>\n",
       "    </tr>\n",
       "    <tr>\n",
       "      <th>2</th>\n",
       "      <td>133.9500</td>\n",
       "      <td>133.9500</td>\n",
       "      <td>19</td>\n",
       "      <td>2011</td>\n",
       "      <td>1</td>\n",
       "      <td>17</td>\n",
       "      <td>3</td>\n",
       "      <td>0</td>\n",
       "    </tr>\n",
       "    <tr>\n",
       "      <th>3</th>\n",
       "      <td>133.9500</td>\n",
       "      <td>133.9500</td>\n",
       "      <td>44</td>\n",
       "      <td>2011</td>\n",
       "      <td>1</td>\n",
       "      <td>17</td>\n",
       "      <td>3</td>\n",
       "      <td>0</td>\n",
       "    </tr>\n",
       "    <tr>\n",
       "      <th>4</th>\n",
       "      <td>141.0750</td>\n",
       "      <td>141.0750</td>\n",
       "      <td>52</td>\n",
       "      <td>2011</td>\n",
       "      <td>1</td>\n",
       "      <td>17</td>\n",
       "      <td>3</td>\n",
       "      <td>0</td>\n",
       "    </tr>\n",
       "  </tbody>\n",
       "</table>\n",
       "</div>"
      ],
      "text/plain": [
       "   total_price  base_price  units_sold  year  month  day  week_of_year  \\\n",
       "0      99.0375    111.8625          20  2011      1   17             3   \n",
       "1      99.0375     99.0375          28  2011      1   17             3   \n",
       "2     133.9500    133.9500          19  2011      1   17             3   \n",
       "3     133.9500    133.9500          44  2011      1   17             3   \n",
       "4     141.0750    141.0750          52  2011      1   17             3   \n",
       "\n",
       "   day_of_week  \n",
       "0            0  \n",
       "1            0  \n",
       "2            0  \n",
       "3            0  \n",
       "4            0  "
      ]
     },
     "execution_count": 49,
     "metadata": {},
     "output_type": "execute_result"
    }
   ],
   "source": [
    "num_ft.head()"
   ]
  },
  {
   "cell_type": "code",
   "execution_count": 74,
   "id": "887e9200",
   "metadata": {},
   "outputs": [
    {
     "name": "stdout",
     "output_type": "stream",
     "text": [
      "range of total_price in [41.325] [562.1625]\n",
      "range of base_price in [4.115371929414176] [6.331790954006543]\n",
      "range of units_sold in [0.0] [7.964155718840937]\n",
      "range of year in [2011] [2013]\n",
      "range of month in [1] [12]\n",
      "range of day in [1] [31]\n",
      "range of week_of_year in [1] [52]\n",
      "range of day_of_week in [0] [6]\n"
     ]
    }
   ],
   "source": [
    "# getting the min and max range of each numerical columns\n",
    "for i in num_ft.columns:\n",
    "    num_ft[i].min()\n",
    "    num_ft[i].max()\n",
    "    print('range of' ,i, 'in',[train[i].min()],\n",
    "    [train[i].max()])"
   ]
  },
  {
   "cell_type": "code",
   "execution_count": 67,
   "id": "4e729268",
   "metadata": {},
   "outputs": [
    {
     "data": {
      "text/plain": [
       "<AxesSubplot:>"
      ]
     },
     "execution_count": 67,
     "metadata": {},
     "output_type": "execute_result"
    },
    {
     "data": {
      "image/png": "[encoded data removed]",
      "text/plain": [
       "<Figure size 576x576 with 2 Axes>"
      ]
     },
     "metadata": {
      "needs_background": "light"
     },
     "output_type": "display_data"
    }
   ],
   "source": [
    "plt.figure(figsize=(8,8))\n",
    "sns.heatmap(num_ft.corr(),annot=True)"
   ]
  },
  {
   "cell_type": "code",
   "execution_count": 63,
   "id": "c9305923",
   "metadata": {},
   "outputs": [
    {
     "name": "stderr",
     "output_type": "stream",
     "text": [
      "C:\\Users\\hp\\anaconda3\\lib\\site-packages\\seaborn\\distributions.py:2619: FutureWarning: `distplot` is a deprecated function and will be removed in a future version. Please adapt your code to use either `displot` (a figure-level function with similar flexibility) or `histplot` (an axes-level function for histograms).\n",
      "  warnings.warn(msg, FutureWarning)\n"
     ]
    },
    {
     "data": {
      "text/plain": [
       "<AxesSubplot:xlabel='total_price', ylabel='Density'>"
      ]
     },
     "execution_count": 63,
     "metadata": {},
     "output_type": "execute_result"
    },
    {
     "data": {
      "image/png": "[encoded data removed]",
      "text/plain": [
       "<Figure size 432x288 with 1 Axes>"
      ]
     },
     "metadata": {
      "needs_background": "light"
     },
     "output_type": "display_data"
    }
   ],
   "source": [
    "sns.distplot(num_ft['total_price'])"
   ]
  },
  {
   "cell_type": "code",
   "execution_count": 65,
   "id": "3f6da7b2",
   "metadata": {},
   "outputs": [
    {
     "name": "stderr",
     "output_type": "stream",
     "text": [
      "C:\\Users\\hp\\anaconda3\\lib\\site-packages\\seaborn\\distributions.py:2619: FutureWarning: `distplot` is a deprecated function and will be removed in a future version. Please adapt your code to use either `displot` (a figure-level function with similar flexibility) or `histplot` (an axes-level function for histograms).\n",
      "  warnings.warn(msg, FutureWarning)\n"
     ]
    },
    {
     "data": {
      "text/plain": [
       "<AxesSubplot:xlabel='units_sold', ylabel='Density'>"
      ]
     },
     "execution_count": 65,
     "metadata": {},
     "output_type": "execute_result"
    },
    {
     "data": {
      "image/png": "[encoded data removed]",
      "text/plain": [
       "<Figure size 432x288 with 1 Axes>"
      ]
     },
     "metadata": {
      "needs_background": "light"
     },
     "output_type": "display_data"
    }
   ],
   "source": [
    "sns.distplot(np.log(num_ft['units_sold']))"
   ]
  },
  {
   "cell_type": "code",
   "execution_count": 69,
   "id": "c5034238",
   "metadata": {},
   "outputs": [
    {
     "name": "stderr",
     "output_type": "stream",
     "text": [
      "C:\\Users\\hp\\anaconda3\\lib\\site-packages\\seaborn\\distributions.py:2619: FutureWarning: `distplot` is a deprecated function and will be removed in a future version. Please adapt your code to use either `displot` (a figure-level function with similar flexibility) or `histplot` (an axes-level function for histograms).\n",
      "  warnings.warn(msg, FutureWarning)\n"
     ]
    },
    {
     "data": {
      "text/plain": [
       "<AxesSubplot:xlabel='base_price', ylabel='Density'>"
      ]
     },
     "execution_count": 69,
     "metadata": {},
     "output_type": "execute_result"
    },
    {
     "data": {
      "image/png": "[encoded data removed]",
      "text/plain": [
       "<Figure size 432x288 with 1 Axes>"
      ]
     },
     "metadata": {
      "needs_background": "light"
     },
     "output_type": "display_data"
    }
   ],
   "source": [
    "sns.distplot(train['base_price'])"
   ]
  },
  {
   "cell_type": "code",
   "execution_count": 68,
   "id": "5b1c3ae7",
   "metadata": {},
   "outputs": [],
   "source": [
    "train['base_price']=np.log(train['base_price'])\n",
    "train['units_sold']=np.log(train['units_sold'])"
   ]
  },
  {
   "cell_type": "code",
   "execution_count": 71,
   "id": "a3eeaa08",
   "metadata": {},
   "outputs": [
    {
     "name": "stdout",
     "output_type": "stream",
     "text": [
      "<class 'pandas.core.frame.DataFrame'>\n",
      "RangeIndex: 150150 entries, 0 to 150149\n",
      "Data columns (total 12 columns):\n",
      " #   Column           Non-Null Count   Dtype  \n",
      "---  ------           --------------   -----  \n",
      " 0   store_id         150150 non-null  int64  \n",
      " 1   sku_id           150150 non-null  int64  \n",
      " 2   total_price      150150 non-null  float64\n",
      " 3   base_price       150150 non-null  float64\n",
      " 4   is_featured_sku  150150 non-null  int64  \n",
      " 5   is_display_sku   150150 non-null  int64  \n",
      " 6   units_sold       150150 non-null  float64\n",
      " 7   year             150150 non-null  int64  \n",
      " 8   month            150150 non-null  int64  \n",
      " 9   day              150150 non-null  int64  \n",
      " 10  week_of_year     150150 non-null  int64  \n",
      " 11  day_of_week      150150 non-null  int64  \n",
      "dtypes: float64(3), int64(9)\n",
      "memory usage: 13.7 MB\n"
     ]
    }
   ],
   "source": [
    "train.info()"
   ]
  },
  {
   "cell_type": "code",
   "execution_count": 75,
   "id": "6999fa4a",
   "metadata": {},
   "outputs": [],
   "source": [
    "from sklearn.linear_model import LinearRegression as lr\n",
    "from sklearn.preprocessing import StandardScaler\n",
    "from sklearn.model_selection import train_test_split\n",
    "from sklearn.metrics import mean_squared_error as mse\n",
    "from sklearn.metrics import mean_squared_log_error as msle\n",
    "from sklearn.metrics import accuracy_score as a_s"
   ]
  },
  {
   "cell_type": "code",
   "execution_count": 78,
   "id": "07364493",
   "metadata": {},
   "outputs": [],
   "source": [
    "x = train.drop('units_sold',axis=1)\n",
    "y = train['units_sold']"
   ]
  },
  {
   "cell_type": "code",
   "execution_count": 80,
   "id": "8c47abe8",
   "metadata": {},
   "outputs": [
    {
     "data": {
      "text/html": [
       "<div>\n",
       "<style scoped>\n",
       "    .dataframe tbody tr th:only-of-type {\n",
       "        vertical-align: middle;\n",
       "    }\n",
       "\n",
       "    .dataframe tbody tr th {\n",
       "        vertical-align: top;\n",
       "    }\n",
       "\n",
       "    .dataframe thead th {\n",
       "        text-align: right;\n",
       "    }\n",
       "</style>\n",
       "<table border=\"1\" class=\"dataframe\">\n",
       "  <thead>\n",
       "    <tr style=\"text-align: right;\">\n",
       "      <th></th>\n",
       "      <th>store_id</th>\n",
       "      <th>sku_id</th>\n",
       "      <th>total_price</th>\n",
       "      <th>base_price</th>\n",
       "      <th>is_featured_sku</th>\n",
       "      <th>is_display_sku</th>\n",
       "      <th>year</th>\n",
       "      <th>month</th>\n",
       "      <th>day</th>\n",
       "      <th>week_of_year</th>\n",
       "      <th>day_of_week</th>\n",
       "    </tr>\n",
       "  </thead>\n",
       "  <tbody>\n",
       "    <tr>\n",
       "      <th>0</th>\n",
       "      <td>8091</td>\n",
       "      <td>216418</td>\n",
       "      <td>99.0375</td>\n",
       "      <td>4.717270</td>\n",
       "      <td>0</td>\n",
       "      <td>0</td>\n",
       "      <td>2011</td>\n",
       "      <td>1</td>\n",
       "      <td>17</td>\n",
       "      <td>3</td>\n",
       "      <td>0</td>\n",
       "    </tr>\n",
       "    <tr>\n",
       "      <th>1</th>\n",
       "      <td>8091</td>\n",
       "      <td>216419</td>\n",
       "      <td>99.0375</td>\n",
       "      <td>4.595499</td>\n",
       "      <td>0</td>\n",
       "      <td>0</td>\n",
       "      <td>2011</td>\n",
       "      <td>1</td>\n",
       "      <td>17</td>\n",
       "      <td>3</td>\n",
       "      <td>0</td>\n",
       "    </tr>\n",
       "    <tr>\n",
       "      <th>2</th>\n",
       "      <td>8091</td>\n",
       "      <td>216425</td>\n",
       "      <td>133.9500</td>\n",
       "      <td>4.897467</td>\n",
       "      <td>0</td>\n",
       "      <td>0</td>\n",
       "      <td>2011</td>\n",
       "      <td>1</td>\n",
       "      <td>17</td>\n",
       "      <td>3</td>\n",
       "      <td>0</td>\n",
       "    </tr>\n",
       "    <tr>\n",
       "      <th>3</th>\n",
       "      <td>8091</td>\n",
       "      <td>216233</td>\n",
       "      <td>133.9500</td>\n",
       "      <td>4.897467</td>\n",
       "      <td>0</td>\n",
       "      <td>0</td>\n",
       "      <td>2011</td>\n",
       "      <td>1</td>\n",
       "      <td>17</td>\n",
       "      <td>3</td>\n",
       "      <td>0</td>\n",
       "    </tr>\n",
       "    <tr>\n",
       "      <th>4</th>\n",
       "      <td>8091</td>\n",
       "      <td>217390</td>\n",
       "      <td>141.0750</td>\n",
       "      <td>4.949292</td>\n",
       "      <td>0</td>\n",
       "      <td>0</td>\n",
       "      <td>2011</td>\n",
       "      <td>1</td>\n",
       "      <td>17</td>\n",
       "      <td>3</td>\n",
       "      <td>0</td>\n",
       "    </tr>\n",
       "  </tbody>\n",
       "</table>\n",
       "</div>"
      ],
      "text/plain": [
       "   store_id  sku_id  total_price  base_price  is_featured_sku  is_display_sku  \\\n",
       "0      8091  216418      99.0375    4.717270                0               0   \n",
       "1      8091  216419      99.0375    4.595499                0               0   \n",
       "2      8091  216425     133.9500    4.897467                0               0   \n",
       "3      8091  216233     133.9500    4.897467                0               0   \n",
       "4      8091  217390     141.0750    4.949292                0               0   \n",
       "\n",
       "   year  month  day  week_of_year  day_of_week  \n",
       "0  2011      1   17             3            0  \n",
       "1  2011      1   17             3            0  \n",
       "2  2011      1   17             3            0  \n",
       "3  2011      1   17             3            0  \n",
       "4  2011      1   17             3            0  "
      ]
     },
     "execution_count": 80,
     "metadata": {},
     "output_type": "execute_result"
    }
   ],
   "source": [
    "x.head()"
   ]
  },
  {
   "cell_type": "code",
   "execution_count": 81,
   "id": "2a91f00f",
   "metadata": {},
   "outputs": [],
   "source": [
    "x_train,x_test,y_train,y_test=train_test_split(x,y,test_size=0.3,random_state=45)"
   ]
  },
  {
   "cell_type": "code",
   "execution_count": 82,
   "id": "5d76dcc3",
   "metadata": {},
   "outputs": [
    {
     "data": {
      "text/plain": [
       "((105105, 11), (105105,))"
      ]
     },
     "execution_count": 82,
     "metadata": {},
     "output_type": "execute_result"
    }
   ],
   "source": [
    "x_train.shape,y_train.shape"
   ]
  },
  {
   "cell_type": "code",
   "execution_count": 88,
   "id": "53aac104",
   "metadata": {},
   "outputs": [
    {
     "data": {
      "text/plain": [
       "(45045, 11)"
      ]
     },
     "execution_count": 88,
     "metadata": {},
     "output_type": "execute_result"
    }
   ],
   "source": [
    "x_test.shape"
   ]
  },
  {
   "cell_type": "code",
   "execution_count": 83,
   "id": "0f9bc07a",
   "metadata": {},
   "outputs": [
    {
     "data": {
      "text/plain": [
       "LinearRegression()"
      ]
     },
     "execution_count": 83,
     "metadata": {},
     "output_type": "execute_result"
    }
   ],
   "source": [
    "model = lr()\n",
    "model.fit(x_train,y_train)"
   ]
  },
  {
   "cell_type": "code",
   "execution_count": 90,
   "id": "94c5bf5a",
   "metadata": {},
   "outputs": [
    {
     "name": "stdout",
     "output_type": "stream",
     "text": [
      "Root mean square log error is  18.863759670334094\n",
      "Root mean square log error is  18.65763505050186\n"
     ]
    }
   ],
   "source": [
    "pred_train = model.predict(x_train)\n",
    "train_rmse = 100*(np.sqrt(msle(y_train,pred_train)))\n",
    "pred_test = model.predict(x_test)\n",
    "test_rmse = 100*(np.sqrt(msle(y_test,pred_test)))\n",
    "print('Root mean square log error is ',train_rmse)\n",
    "print('Root mean square log error is ',test_rmse)"
   ]
  },
  {
   "cell_type": "code",
   "execution_count": 95,
   "id": "c8825f15",
   "metadata": {},
   "outputs": [
    {
     "data": {
      "text/plain": [
       "array([ 76.18454154,  76.67918396,  93.99175066, ..., 280.93232565,\n",
       "       133.02435937, 162.3324603 ])"
      ]
     },
     "execution_count": 95,
     "metadata": {},
     "output_type": "execute_result"
    }
   ],
   "source": [
    "prediction = model.predict(test)\n",
    "prediction"
   ]
  },
  {
   "cell_type": "code",
   "execution_count": 96,
   "id": "2f567a9b",
   "metadata": {},
   "outputs": [],
   "source": [
    "test['prediction_sales_price']= prediction"
   ]
  },
  {
   "cell_type": "code",
   "execution_count": 97,
   "id": "086bfbde",
   "metadata": {},
   "outputs": [
    {
     "data": {
      "text/html": [
       "<div>\n",
       "<style scoped>\n",
       "    .dataframe tbody tr th:only-of-type {\n",
       "        vertical-align: middle;\n",
       "    }\n",
       "\n",
       "    .dataframe tbody tr th {\n",
       "        vertical-align: top;\n",
       "    }\n",
       "\n",
       "    .dataframe thead th {\n",
       "        text-align: right;\n",
       "    }\n",
       "</style>\n",
       "<table border=\"1\" class=\"dataframe\">\n",
       "  <thead>\n",
       "    <tr style=\"text-align: right;\">\n",
       "      <th></th>\n",
       "      <th>store_id</th>\n",
       "      <th>sku_id</th>\n",
       "      <th>total_price</th>\n",
       "      <th>base_price</th>\n",
       "      <th>is_featured_sku</th>\n",
       "      <th>is_display_sku</th>\n",
       "      <th>year</th>\n",
       "      <th>month</th>\n",
       "      <th>day</th>\n",
       "      <th>week_of_year</th>\n",
       "      <th>day_of_week</th>\n",
       "      <th>prediction_sales_price</th>\n",
       "    </tr>\n",
       "  </thead>\n",
       "  <tbody>\n",
       "    <tr>\n",
       "      <th>0</th>\n",
       "      <td>8091</td>\n",
       "      <td>216418</td>\n",
       "      <td>108.3000</td>\n",
       "      <td>108.3000</td>\n",
       "      <td>0</td>\n",
       "      <td>0</td>\n",
       "      <td>2013</td>\n",
       "      <td>7</td>\n",
       "      <td>16</td>\n",
       "      <td>29</td>\n",
       "      <td>1</td>\n",
       "      <td>76.184542</td>\n",
       "    </tr>\n",
       "    <tr>\n",
       "      <th>1</th>\n",
       "      <td>8091</td>\n",
       "      <td>216419</td>\n",
       "      <td>109.0125</td>\n",
       "      <td>109.0125</td>\n",
       "      <td>0</td>\n",
       "      <td>0</td>\n",
       "      <td>2013</td>\n",
       "      <td>7</td>\n",
       "      <td>16</td>\n",
       "      <td>29</td>\n",
       "      <td>1</td>\n",
       "      <td>76.679184</td>\n",
       "    </tr>\n",
       "    <tr>\n",
       "      <th>2</th>\n",
       "      <td>8091</td>\n",
       "      <td>216425</td>\n",
       "      <td>133.9500</td>\n",
       "      <td>133.9500</td>\n",
       "      <td>0</td>\n",
       "      <td>0</td>\n",
       "      <td>2013</td>\n",
       "      <td>7</td>\n",
       "      <td>16</td>\n",
       "      <td>29</td>\n",
       "      <td>1</td>\n",
       "      <td>93.991751</td>\n",
       "    </tr>\n",
       "    <tr>\n",
       "      <th>3</th>\n",
       "      <td>8091</td>\n",
       "      <td>216233</td>\n",
       "      <td>133.9500</td>\n",
       "      <td>133.9500</td>\n",
       "      <td>0</td>\n",
       "      <td>0</td>\n",
       "      <td>2013</td>\n",
       "      <td>7</td>\n",
       "      <td>16</td>\n",
       "      <td>29</td>\n",
       "      <td>1</td>\n",
       "      <td>93.992293</td>\n",
       "    </tr>\n",
       "    <tr>\n",
       "      <th>4</th>\n",
       "      <td>8091</td>\n",
       "      <td>217390</td>\n",
       "      <td>176.7000</td>\n",
       "      <td>176.7000</td>\n",
       "      <td>0</td>\n",
       "      <td>0</td>\n",
       "      <td>2013</td>\n",
       "      <td>7</td>\n",
       "      <td>16</td>\n",
       "      <td>29</td>\n",
       "      <td>1</td>\n",
       "      <td>123.667737</td>\n",
       "    </tr>\n",
       "  </tbody>\n",
       "</table>\n",
       "</div>"
      ],
      "text/plain": [
       "   store_id  sku_id  total_price  base_price  is_featured_sku  is_display_sku  \\\n",
       "0      8091  216418     108.3000    108.3000                0               0   \n",
       "1      8091  216419     109.0125    109.0125                0               0   \n",
       "2      8091  216425     133.9500    133.9500                0               0   \n",
       "3      8091  216233     133.9500    133.9500                0               0   \n",
       "4      8091  217390     176.7000    176.7000                0               0   \n",
       "\n",
       "   year  month  day  week_of_year  day_of_week  prediction_sales_price  \n",
       "0  2013      7   16            29            1               76.184542  \n",
       "1  2013      7   16            29            1               76.679184  \n",
       "2  2013      7   16            29            1               93.991751  \n",
       "3  2013      7   16            29            1               93.992293  \n",
       "4  2013      7   16            29            1              123.667737  "
      ]
     },
     "execution_count": 97,
     "metadata": {},
     "output_type": "execute_result"
    }
   ],
   "source": [
    "test.head()"
   ]
  }
 ],
 "metadata": {
  "kernelspec": {
   "display_name": "Python 3 (ipykernel)",
   "language": "python",
   "name": "python3"
  },
  "language_info": {
   "codemirror_mode": {
    "name": "ipython",
    "version": 3
   },
   "file_extension": ".py",
   "mimetype": "text/x-python",
   "name": "python",
   "nbconvert_exporter": "python",
   "pygments_lexer": "ipython3",
   "version": "3.9.12"
  }
 },
 "nbformat": 4,
 "nbformat_minor": 5
}
